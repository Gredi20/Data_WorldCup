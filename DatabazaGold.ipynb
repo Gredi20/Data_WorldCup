{
 "cells": [
  {
   "cell_type": "code",
   "execution_count": 2,
   "id": "a73c9637-e6fb-4d5d-a16f-8f7edb7bbc9b",
   "metadata": {},
   "outputs": [
    {
     "name": "stdout",
     "output_type": "stream",
     "text": [
      "Table gold\\avg_goals_points_g created successfully.\n",
      "Table gold\\awards_each_year_g created successfully.\n",
      "Table gold\\goals_avg_against_g created successfully.\n",
      "Table gold\\line_chart_g created successfully.\n",
      "Table gold\\pie_chart_pjesa1_g created successfully.\n",
      "Table gold\\pie_chart_pjesa2_g created successfully.\n",
      "Table gold\\positionaward_3a_g created successfully.\n",
      "Table gold\\sharedawards_count_3b_g created successfully.\n",
      "Table gold\\win_loss_ratio_g created successfully.\n",
      "Table gold\\win_prob_g created successfully.\n"
     ]
    }
   ],
   "source": [
    "import pandas as pd\n",
    "from sqlalchemy import create_engine\n",
    "import glob\n",
    "\n",
    "username = 'root'\n",
    "password = 'root'\n",
    "host = 'localhost'\n",
    "port = '3307'\n",
    "database_name = 'worldcup/gold'\n",
    "\n",
    "engine = create_engine(f\"mysql+pymysql://{username}:{password}@{host}:{port}/{database_name}\")\n",
    "\n",
    "csv_directory = 'gold'  \n",
    "\n",
    "csv_files = glob.glob(f\"{csv_directory}/*.csv\")\n",
    "\n",
    "for csv_file in csv_files:\n",
    "   \n",
    "    df = pd.read_csv(csv_file)\n",
    "\n",
    "    table_name = csv_file.split('/')[-1].split('.')[0]  \n",
    "\n",
    "    df.to_sql(table_name, con=engine, index=False, if_exists='replace')\n",
    "\n",
    "    print(f'Table {table_name} created successfully.')\n",
    "\n",
    "engine.dispose()"
   ]
  },
  {
   "cell_type": "code",
   "execution_count": null,
   "id": "4af32e9c-1eac-49d8-87ef-d438f436c409",
   "metadata": {},
   "outputs": [],
   "source": []
  }
 ],
 "metadata": {
  "kernelspec": {
   "display_name": "Python 3 (ipykernel)",
   "language": "python",
   "name": "python3"
  },
  "language_info": {
   "codemirror_mode": {
    "name": "ipython",
    "version": 3
   },
   "file_extension": ".py",
   "mimetype": "text/x-python",
   "name": "python",
   "nbconvert_exporter": "python",
   "pygments_lexer": "ipython3",
   "version": "3.12.0"
  }
 },
 "nbformat": 4,
 "nbformat_minor": 5
}
