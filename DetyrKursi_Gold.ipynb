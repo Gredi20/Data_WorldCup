{
 "cells": [
  {
   "cell_type": "code",
   "execution_count": 31,
   "id": "8a3cc583",
   "metadata": {},
   "outputs": [],
   "source": [
    "import numpy as np\n",
    "import pandas as pd\n",
    "import matplotlib.pyplot as plt\n"
   ]
  },
  {
   "cell_type": "code",
   "execution_count": 30,
   "id": "487ca470-7df8-4f84-954e-de9341ae9519",
   "metadata": {},
   "outputs": [
    {
     "name": "stdout",
     "output_type": "stream",
     "text": [
      "    Team  Win/Loss Ratio\n",
      "0   T-30        1.733333\n",
      "1   T-46        0.472222\n",
      "2   T-83        2.040000\n",
      "3   T-06        1.100000\n",
      "4   T-87        1.142857\n",
      "..   ...             ...\n",
      "83  T-08        0.500000\n",
      "84  T-76        0.200000\n",
      "85  T-37        0.000000\n",
      "86  T-54        0.000000\n",
      "87  T-59        0.000000\n",
      "\n",
      "[88 rows x 2 columns]\n"
     ]
    }
   ],
   "source": [
    "def calculate_win_loss_ratio(matches_df):\n",
    "   \n",
    "    teams_dict = {}\n",
    "\n",
    "    for index, row in matches_df.iterrows():\n",
    "        home_team = row['home_team_id']\n",
    "        away_team = row['away_team_id']\n",
    "        match_result = row['result']\n",
    "\n",
    "        if home_team not in teams_dict:\n",
    "            teams_dict[home_team] = {'Win': 0, 'Loss': 0, 'Draw': 0}\n",
    "\n",
    "        if away_team not in teams_dict:\n",
    "            teams_dict[away_team] = {'Win': 0, 'Loss': 0, 'Draw': 0}\n",
    "\n",
    "        if match_result == 'home team win':\n",
    "            teams_dict[home_team]['Win'] += 1\n",
    "            teams_dict[away_team]['Loss'] += 1\n",
    "        elif match_result == 'away team win':\n",
    "            teams_dict[home_team]['Loss'] += 1\n",
    "            teams_dict[away_team]['Win'] += 1\n",
    "        else:\n",
    "            teams_dict[home_team]['Draw'] += 1\n",
    "            teams_dict[away_team]['Draw'] += 1\n",
    "\n",
    "    teams_df = pd.DataFrame.from_dict(teams_dict, orient='index')\n",
    "\n",
    "    teams_df['Win/Loss Ratio'] = teams_df['Win'] / teams_df['Loss']\n",
    "\n",
    "    teams_df.reset_index(inplace=True)\n",
    "    teams_df.columns = ['Team', 'Win', 'Loss', 'Draw', 'Win/Loss Ratio']\n",
    "\n",
    "    return teams_df[['Team', 'Win/Loss Ratio']]\n",
    "\n",
    "matches_df = pd.read_csv('silver/matches_new.csv')\n",
    "\n",
    "result_df = calculate_win_loss_ratio(matches_df)\n",
    "\n",
    "print(result_df)\n",
    "result_df.to_csv('win_loss_ratio_g.csv')\n"
   ]
  },
  {
   "cell_type": "code",
   "execution_count": null,
   "id": "7f734348",
   "metadata": {},
   "outputs": [],
   "source": [
    "def calculate_success_rate(input_file_name):\n",
    "    \n",
    "    df = pd.read_csv(input_file_name)\n",
    "\n",
    "    player_stats = df.groupby('player_id')['converted'].agg(['count', 'sum'])\n",
    "    player_stats['success_rate'] = player_stats['sum'] / player_stats['count']\n",
    "\n",
    "    result_df = pd.DataFrame({\n",
    "        'player_id': player_stats.index,\n",
    "        'success_rate': player_stats['success_rate']\n",
    "    })\n",
    "\n",
    "    result_df.to_csv('penalty_success_rate_stats_g.csv', index=False)\n",
    "\n",
    "input_csv = 'silver/penalty_kicks_new.csv'  \n",
    "calculate_success_rate(input_csv)"
   ]
  },
  {
   "cell_type": "code",
   "execution_count": null,
   "id": "5e0f0334",
   "metadata": {},
   "outputs": [],
   "source": [
    "def create_appearances_summary_csv(input_file):\n",
    "   \n",
    "    df = pd.read_csv(input_file)\n",
    "\n",
    "    appearances_df = df.groupby('player_id').size().reset_index(name='appearances')\n",
    "\n",
    "    output_file = 'appearances_summary_g.csv'\n",
    "\n",
    "    appearances_df.to_csv(output_file, index=False)\n",
    "\n",
    "input_file = 'silver/player_appearances_new.csv'\n",
    "create_appearances_summary_csv(input_file)\n"
   ]
  },
  {
   "cell_type": "code",
   "execution_count": 33,
   "id": "ff8a849b",
   "metadata": {},
   "outputs": [
    {
     "name": "stdout",
     "output_type": "stream",
     "text": [
      "     tournament_id team_id player_id\n",
      "0          WC-1930    T-84   P-63826\n",
      "1          WC-1930    T-84   P-57352\n",
      "2          WC-1930    T-84   P-63987\n",
      "3          WC-1930    T-84   P-47453\n",
      "4          WC-1930    T-84   P-76186\n",
      "...            ...     ...       ...\n",
      "1793       WC-2022    T-47   P-05216\n",
      "1794       WC-2022    T-47   P-80656\n",
      "1795       WC-2022    T-47   P-00597\n",
      "1796       WC-2022    T-47   P-91543\n",
      "1797       WC-2022    T-47   P-86644\n",
      "\n",
      "[1798 rows x 3 columns]\n"
     ]
    }
   ],
   "source": [
    "squads = pd.read_csv('silver/squads_new.csv')\n",
    "tournament_standings = pd.read_csv('silver/tournament_standings_new.csv')\n",
    "\n",
    "selected_teams = tournament_standings[['tournament_id', 'team_id']]\n",
    "\n",
    "final_df = pd.merge(selected_teams, squads, how='inner', on=['tournament_id', 'team_id'])\n",
    "\n",
    "final_df = final_df[['tournament_id', 'team_id', 'player_id']]\n",
    "\n",
    "print(final_df[['tournament_id', 'team_id', 'player_id']])\n",
    "\n",
    "players=pd.read_csv('silver/players_new.csv')\n",
    "final_df = pd.merge(final_df, players[['player_id','birth_date']], how='inner', on='player_id')\n",
    "\n",
    "df=final_df\n",
    "\n",
    "df['tournament_year'] = df['tournament_id'].str.extract(r'(\\d+)').astype(int)\n",
    "\n",
    "df['birth_date'] = pd.to_datetime(df['birth_date'], errors='coerce')\n",
    "\n",
    "df['age'] = df['tournament_year'] - df['birth_date'].dt.year\n",
    "\n",
    "df['age'] = df['age'].astype(float)\n",
    "\n",
    "df.to_csv('age_distribution_histograma_g.csv', index=False)"
   ]
  },
  {
   "cell_type": "code",
   "execution_count": 4,
   "id": "187f0287",
   "metadata": {},
   "outputs": [
    {
     "name": "stdout",
     "output_type": "stream",
     "text": [
      "     position  total_goals\n",
      "0  goalkeeper            5\n",
      "1    defender          437\n",
      "2  midfielder         1254\n",
      "3     forward         2427\n"
     ]
    }
   ],
   "source": [
    "players_df = pd.read_csv('silver/players_new.csv')\n",
    "goals_df = pd.read_csv('silver/goals_new.csv')\n",
    "\n",
    "goals_count_df = goals_df.groupby('player_id').size().reset_index(name='goals_number')\n",
    "\n",
    "merged_df = pd.merge(players_df, goals_count_df, on='player_id', how='inner')\n",
    "\n",
    "merged_df['goals_number'] = merged_df['goals_number'].fillna(0)\n",
    "\n",
    "\n",
    "result_df = merged_df.pivot_table(index='player_id', \n",
    "                                  values=['goal_keeper', 'defender', 'midfielder', 'forward', 'goals_number'],\n",
    "                                  aggfunc={'goal_keeper': 'max', 'defender': 'max', \n",
    "                                           'midfielder': 'max', 'forward': 'max', 'goals_number': 'sum'}).reset_index()\n",
    "\n",
    "result_df[['goal_keeper', 'defender', 'midfielder', 'forward']] = result_df[['goal_keeper', 'defender', 'midfielder', 'forward']].astype(int)\n",
    "\n",
    "goalkeeper_df = result_df[result_df['goal_keeper'] == 1]\n",
    "defender_df = result_df[result_df['defender'] == 1]\n",
    "midfielder_df = result_df[result_df['midfielder'] == 1]\n",
    "forward_df = result_df[result_df['forward'] == 1]\n",
    "\n",
    "result_df = pd.DataFrame({\n",
    "    'position': ['goalkeeper', 'defender', 'midfielder', 'forward'],\n",
    "    'total_goals': [\n",
    "        goalkeeper_df['goals_number'].sum(),\n",
    "        defender_df['goals_number'].sum(),\n",
    "        midfielder_df['goals_number'].sum(),\n",
    "        forward_df['goals_number'].sum()\n",
    "    ]\n",
    "})\n",
    "\n",
    "print(result_df)\n",
    "\n",
    "\n",
    "result_df.to_csv('pie_chart_pjesa1_g.csv', index=False)\n",
    "\n"
   ]
  },
  {
   "cell_type": "code",
   "execution_count": 5,
   "id": "1ec31913",
   "metadata": {},
   "outputs": [],
   "source": [
    "df = pd.read_csv(\"silver/group_standings_new.csv\")\n",
    "\n",
    "averages_df = df.groupby('team_id').agg({\n",
    "    'goals_for': 'mean',\n",
    "    'points': 'mean'\n",
    "}).reset_index()\n",
    "\n",
    "averages_df['goals_avg'] = averages_df['goals_for'].round(2)\n",
    "averages_df['points_avg'] = averages_df['points'].round(2)\n",
    "\n",
    "averages_df = averages_df.drop(['goals_for', 'points'], axis=1)\n",
    "\n",
    "averages_df.to_csv('avg_goals_points_g.csv', index=False)\n"
   ]
  },
  {
   "cell_type": "code",
   "execution_count": 6,
   "id": "26f02ec1",
   "metadata": {},
   "outputs": [],
   "source": [
    "def calculate_goals_avg(input_file):\n",
    "    \n",
    "    df = pd.read_csv(input_file)\n",
    "\n",
    "    grouped_df = df.groupby('team_id').agg({\n",
    "        'played': 'sum',\n",
    "        'goals_for': 'sum'\n",
    "    }).reset_index()\n",
    "\n",
    "    grouped_df['goals_avg'] = (grouped_df['goals_for'] / grouped_df['played']).round(2)\n",
    "\n",
    "    grouped_df = grouped_df[['team_id', 'goals_avg']]\n",
    "\n",
    "    output_file = 'goals_avg_against_g.csv'\n",
    "\n",
    "    grouped_df.to_csv(output_file, index=False)\n",
    "\n",
    "input_file = 'silver/group_standings_new.csv'\n",
    "\n",
    "calculate_goals_avg(input_file)\n"
   ]
  },
  {
   "cell_type": "code",
   "execution_count": 7,
   "id": "8f2cf76b",
   "metadata": {},
   "outputs": [
    {
     "name": "stdout",
     "output_type": "stream",
     "text": [
      "   team_id  win_probability\n",
      "0     T-01             0.25\n",
      "1     T-02             0.00\n",
      "2     T-03             0.50\n",
      "3     T-04             0.26\n",
      "4     T-05             0.36\n",
      "..     ...              ...\n",
      "81    T-84             0.46\n",
      "82    T-85             0.00\n",
      "83    T-86             0.57\n",
      "84    T-87             0.50\n",
      "85    T-88             0.00\n",
      "\n",
      "[86 rows x 2 columns]\n"
     ]
    }
   ],
   "source": [
    "csv_file_path = 'silver/group_standings_new.csv'\n",
    "\n",
    "df = pd.read_csv(csv_file_path)\n",
    "\n",
    "grouped_df = df.groupby('team_id').agg({'played': 'sum', 'wins': 'sum'}).reset_index()\n",
    "\n",
    "grouped_df['win_probability'] = grouped_df['wins'] / grouped_df['played']\n",
    "\n",
    "grouped_df['win_probability'] = grouped_df['win_probability'].round(2)\n",
    "\n",
    "result_df = grouped_df[['team_id', 'win_probability']]\n",
    "\n",
    "print(result_df)\n",
    "\n",
    "result_df.to_csv('win_prob_g.csv', index=False)\n"
   ]
  },
  {
   "cell_type": "code",
   "execution_count": 8,
   "id": "9b0ef825",
   "metadata": {},
   "outputs": [
    {
     "name": "stdout",
     "output_type": "stream",
     "text": [
      "   team_id  wins  draws  losses\n",
      "0     T-01     3      3       6\n",
      "1     T-02     0      2       1\n",
      "2     T-03    34     12      22\n",
      "3     T-04    10      9      20\n",
      "4     T-05     8      4      10\n",
      "..     ...   ...    ...     ...\n",
      "81    T-84    19     12      10\n",
      "82    T-85     0      4       2\n",
      "83    T-86    21     11       5\n",
      "84    T-87    14      7       7\n",
      "85    T-88     0      0       3\n",
      "\n",
      "[86 rows x 4 columns]\n"
     ]
    }
   ],
   "source": [
    "csv_file_path = 'silver/group_standings_new.csv'\n",
    "\n",
    "df = pd.read_csv(csv_file_path)\n",
    "\n",
    "grouped_df = df.groupby('team_id').agg({\n",
    "    'wins': 'sum',\n",
    "    'draws': 'sum',\n",
    "    'losses': 'sum'\n",
    "}).reset_index()\n",
    "\n",
    "result_df = grouped_df[['team_id', 'wins', 'draws', 'losses']]\n",
    "\n",
    "print(result_df)\n",
    "\n",
    "result_df.to_csv('pie_chart_pjesa2_g.csv', index=False)\n"
   ]
  },
  {
   "cell_type": "code",
   "execution_count": 9,
   "id": "ae9ed0b1",
   "metadata": {},
   "outputs": [
    {
     "name": "stdout",
     "output_type": "stream",
     "text": [
      "    tournament_id team_id  year  goals_for  goals_against  points\n",
      "0         WC-1930    T-03  1930         10              4       6\n",
      "1         WC-1930    T-06  1930          0              4       0\n",
      "2         WC-1930    T-07  1930          0              8       0\n",
      "3         WC-1930    T-09  1930          5              2       2\n",
      "4         WC-1930    T-13  1930          5              3       4\n",
      "..            ...     ...   ...        ...            ...     ...\n",
      "589       WC-2022    T-75  2022          4              3       6\n",
      "590       WC-2022    T-79  2022          1              1       4\n",
      "591       WC-2022    T-83  2022          2              1       5\n",
      "592       WC-2022    T-84  2022          2              2       4\n",
      "593       WC-2022    T-85  2022          1              6       1\n",
      "\n",
      "[594 rows x 6 columns]\n"
     ]
    }
   ],
   "source": [
    "file_path = 'silver/group_standings_new.csv'  \n",
    "columns_to_extract = ['tournament_id', 'team_id', 'goals_for', 'goals_against', 'points']\n",
    "df = pd.read_csv(file_path, usecols=columns_to_extract)\n",
    "\n",
    "df['year'] = df['tournament_id'].str.extract(r'(\\d+)').astype(int)\n",
    "\n",
    "grouped_df = df.groupby(['tournament_id', 'team_id', 'year']).agg({\n",
    "    'goals_for': 'sum',\n",
    "    'goals_against': 'sum',\n",
    "    'points': 'sum'\n",
    "}).reset_index()\n",
    "\n",
    "output_file_path = 'line_chart_g.csv'  \n",
    "grouped_df.to_csv(output_file_path, index=False)\n",
    "\n",
    "print(grouped_df)\n"
   ]
  },
  {
   "cell_type": "code",
   "execution_count": 10,
   "id": "59c9de14",
   "metadata": {},
   "outputs": [
    {
     "name": "stdout",
     "output_type": "stream",
     "text": [
      "Awards won each year\n",
      "     year    award_name  count\n",
      "0    1930   Bronze Boot      1\n",
      "1    1930   Golden Boot      1\n",
      "2    1930   Silver Boot      1\n",
      "3    1934   Golden Boot      1\n",
      "4    1934   Silver Boot      2\n",
      "..    ...           ...    ...\n",
      "167  2022   Golden Ball      1\n",
      "168  2022   Golden Boot      1\n",
      "169  2022  Golden Glove      1\n",
      "170  2022   Silver Ball      1\n",
      "171  2022   Silver Boot      1\n",
      "\n",
      "[172 rows x 3 columns]\n"
     ]
    }
   ],
   "source": [
    "award_winners_df= pd.read_csv(\"silver/award_winners_new.csv\")\n",
    "award_winners_df['year'] = award_winners_df['tournament_id'].str.extract(r'(\\d{4})')\n",
    "result = award_winners_df.groupby(['year', 'award_name']).size().reset_index(name='count')\n",
    "print(\"Awards won each year\")\n",
    "result.to_csv(\"awards_each_year_g.csv\", index=False)\n",
    "print(result)"
   ]
  },
  {
   "cell_type": "code",
   "execution_count": 11,
   "id": "fc9c0059",
   "metadata": {},
   "outputs": [
    {
     "name": "stdout",
     "output_type": "stream",
     "text": [
      "    position_name         award_name\n",
      "0         forward        Golden Boot\n",
      "1         forward        Silver Boot\n",
      "2         forward        Bronze Boot\n",
      "3         forward        Golden Boot\n",
      "4         forward        Golden Boot\n",
      "..            ...                ...\n",
      "550       forward        Bronze Boot\n",
      "551       forward        Bronze Boot\n",
      "552       forward        Bronze Boot\n",
      "553   goal keeper       Golden Glove\n",
      "554    midfielder  Best Young Player\n",
      "\n",
      "[555 rows x 2 columns]\n"
     ]
    }
   ],
   "source": [
    "award_winners = pd.read_csv('silver/award_winners_new.csv')\n",
    "squads = pd.read_csv('silver/squads_new.csv')\n",
    "\n",
    "merged_data = pd.merge(award_winners, squads, on='player_id', how='inner')\n",
    "\n",
    "position_award_data = merged_data[['position_name', 'award_name']]\n",
    "\n",
    "position_award_data.to_csv('positionaward_3a_g.csv', index=False)\n",
    "\n",
    "print(position_award_data)"
   ]
  },
  {
   "cell_type": "code",
   "execution_count": 12,
   "id": "892810ba",
   "metadata": {},
   "outputs": [
    {
     "name": "stdout",
     "output_type": "stream",
     "text": [
      "    year  count\n",
      "0   1934      2\n",
      "1   1938      3\n",
      "2   1950      4\n",
      "3   1954      3\n",
      "4   1958      2\n",
      "5   1962      6\n",
      "6   1966      4\n",
      "7   1974      2\n",
      "8   1986      3\n",
      "9   1990      2\n",
      "10  1991      2\n",
      "11  1994      4\n",
      "12  1998      2\n",
      "13  1999      4\n",
      "14  2002      2\n"
     ]
    }
   ],
   "source": [
    "award_winners = pd.read_csv('silver/award_winners_new.csv')\n",
    "\n",
    "award_winners['year'] = award_winners['tournament_id'].str.extract(r'(\\d{4})', expand=False)\n",
    "\n",
    "shared_award_winners = award_winners[award_winners['shared'] == 1]\n",
    "\n",
    "shared_awards_count = shared_award_winners.groupby('year').size().reset_index(name='count')\n",
    "\n",
    "shared_awards_count.to_csv('sharedawards_count_3b_g.csv', index=False)\n",
    "\n",
    "print(shared_awards_count)"
   ]
  },
  {
   "cell_type": "code",
   "execution_count": 16,
   "id": "1eb34f68",
   "metadata": {},
   "outputs": [
    {
     "name": "stdout",
     "output_type": "stream",
     "text": [
      "         team_name  total_awards_won\n",
      "0        Argentina                 2\n",
      "1        Australia                 0\n",
      "2          Austria                 1\n",
      "3          Belgium                 0\n",
      "4           Brazil                 8\n",
      "5         Bulgaria                 1\n",
      "6         Cameroon                 1\n",
      "7           Canada                 0\n",
      "8            Chile                 1\n",
      "9            China                 2\n",
      "10        Colombia                 0\n",
      "11         Croatia                 0\n",
      "12  Czechoslovakia                 0\n",
      "13         Denmark                 0\n",
      "14         England                 2\n",
      "15          France                 0\n",
      "16         Germany                 2\n",
      "17         Hungary                 4\n",
      "18           Italy                 3\n",
      "19           Japan                 0\n",
      "20     Netherlands                 1\n",
      "21          Norway                 1\n",
      "22            Peru                 0\n",
      "23          Poland                 1\n",
      "24        Portugal                 0\n",
      "25          Russia                 1\n",
      "26     South Korea                 0\n",
      "27    Soviet Union                 2\n",
      "28           Spain                 3\n",
      "29          Sweden                 1\n",
      "30     Switzerland                 1\n",
      "31   United States                 2\n",
      "32         Uruguay                 1\n",
      "33    West Germany                 3\n",
      "34      Yugoslavia                 1\n"
     ]
    }
   ],
   "source": [
    "award_winners = pd.read_csv('silver/award_winners_new.csv')\n",
    "\n",
    "award_winners['shared'] = pd.to_numeric(award_winners['shared'], errors='coerce')\n",
    "\n",
    "awards_by_nationality = award_winners.groupby('team_name')['shared'].sum().reset_index(name='total_awards_won')\n",
    "\n",
    "print(awards_by_nationality)"
   ]
  },
  {
   "cell_type": "code",
   "execution_count": null,
   "id": "3be42bb2-079e-46de-bc72-324897f8215d",
   "metadata": {},
   "outputs": [],
   "source": []
  }
 ],
 "metadata": {
  "kernelspec": {
   "display_name": "Python 3 (ipykernel)",
   "language": "python",
   "name": "python3"
  },
  "language_info": {
   "codemirror_mode": {
    "name": "ipython",
    "version": 3
   },
   "file_extension": ".py",
   "mimetype": "text/x-python",
   "name": "python",
   "nbconvert_exporter": "python",
   "pygments_lexer": "ipython3",
   "version": "3.12.0"
  }
 },
 "nbformat": 4,
 "nbformat_minor": 5
}
