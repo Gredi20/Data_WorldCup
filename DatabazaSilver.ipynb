{
 "cells": [
  {
   "cell_type": "code",
   "execution_count": 16,
   "id": "edeb7551-2725-4d9d-9adb-e4ca3cc98285",
   "metadata": {},
   "outputs": [
    {
     "name": "stdout",
     "output_type": "stream",
     "text": [
      "Table silver\\awards_new created successfully.\n",
      "Table silver\\award_winners_new created successfully.\n",
      "Table silver\\goals_new created successfully.\n",
      "Table silver\\groups_new created successfully.\n",
      "Table silver\\group_standings_new created successfully.\n",
      "Table silver\\matches_new created successfully.\n",
      "Table silver\\penalty_kicks_new created successfully.\n",
      "Table silver\\players_new created successfully.\n",
      "Table silver\\player_appearances_new created successfully.\n",
      "Table silver\\squads_new created successfully.\n",
      "Table silver\\teams_new created successfully.\n",
      "Table silver\\tournament_standings_new created successfully.\n"
     ]
    }
   ],
   "source": [
    "import pandas as pd\n",
    "from sqlalchemy import create_engine\n",
    "import glob\n",
    "\n",
    "username = 'root'\n",
    "password = 'root'\n",
    "host = 'localhost'\n",
    "port = '3307'\n",
    "database_name = 'worldcup/silver'\n",
    "\n",
    "engine = create_engine(f\"mysql+pymysql://{username}:{password}@{host}:{port}/{database_name}\")\n",
    "\n",
    "csv_directory = 'silver'  \n",
    "\n",
    "csv_files = glob.glob(f\"{csv_directory}/*.csv\")\n",
    "\n",
    "for csv_file in csv_files:\n",
    "   \n",
    "    df = pd.read_csv(csv_file)\n",
    "\n",
    "    table_name = csv_file.split('/')[-1].split('.')[0]  \n",
    "\n",
    "    df.to_sql(table_name, con=engine, index=False, if_exists='replace')\n",
    "\n",
    "    print(f'Table {table_name} created successfully.')\n",
    "\n",
    "engine.dispose()"
   ]
  },
  {
   "cell_type": "code",
   "execution_count": null,
   "id": "a3ca6618-9187-463d-a6b8-78c5fd81b5a4",
   "metadata": {},
   "outputs": [],
   "source": []
  }
 ],
 "metadata": {
  "kernelspec": {
   "display_name": "Python 3 (ipykernel)",
   "language": "python",
   "name": "python3"
  },
  "language_info": {
   "codemirror_mode": {
    "name": "ipython",
    "version": 3
   },
   "file_extension": ".py",
   "mimetype": "text/x-python",
   "name": "python",
   "nbconvert_exporter": "python",
   "pygments_lexer": "ipython3",
   "version": "3.12.0"
  }
 },
 "nbformat": 4,
 "nbformat_minor": 5
}
